{
  "nbformat": 4,
  "nbformat_minor": 0,
  "metadata": {
    "colab": {
      "provenance": [],
      "gpuType": "T4",
      "include_colab_link": true
    },
    "kernelspec": {
      "name": "python3",
      "display_name": "Python 3"
    },
    "language_info": {
      "name": "python"
    },
    "accelerator": "GPU"
  },
  "cells": [
    {
      "cell_type": "markdown",
      "metadata": {
        "id": "view-in-github",
        "colab_type": "text"
      },
      "source": [
        "<a href=\"https://colab.research.google.com/github/ut-oilers/cs342/blob/main/JPP_DL_Homework_2.ipynb\" target=\"_parent\"><img src=\"https://colab.research.google.com/assets/colab-badge.svg\" alt=\"Open In Colab\"/></a>"
      ]
    },
    {
      "cell_type": "markdown",
      "source": [
        "## Setup\n",
        "\n",
        "First, enable a GPU runtime via `Runtime > Change runtime type > T4 GPU`\n",
        "\n",
        "Next, upload the following files to the Colab files (left side of the UI)\n",
        "- `homework2.zip`\n",
        "- `classification_data.zip`\n",
        "\n",
        "Unzip the files by running the following cell.  \n",
        "\n",
        "\n",
        "## Colab Tips\n",
        "- You can modify files by opening/editing them in the UI (double-click to open).\n",
        "- `Right click > Refresh` in the Colab file explorer to update the directory.\n",
        "- All files are lost when the Colab session disconnects, so make sure back up your work frequently!\n",
        "\n",
        "Please see `README.md` for homework-specific implementation instrucations."
      ],
      "metadata": {
        "id": "6zWseivb1lli"
      }
    },
    {
      "cell_type": "code",
      "execution_count": 3,
      "metadata": {
        "id": "vLC51taXudfJ"
      },
      "outputs": [],
      "source": [
        "!unzip -o homework2.zip\n",
        "!unzip -o classification_data.zip > /classification_data\n",
        "\n",
        "# refreshes python imports automatically when you edit the source file\n",
        "%load_ext autoreload\n",
        "%autoreload 2"
      ]
    },
    {
      "cell_type": "markdown",
      "source": [
        "## Grader\n",
        "\n",
        "Run the following cell to grade your homework locally.\n",
        "\n",
        "Note that the Canvas grader uses a different data split for testing.  \n",
        "There may be a *small* difference between your local grade and your final grade."
      ],
      "metadata": {
        "id": "WODRADDO02Hd"
      }
    },
    {
      "cell_type": "code",
      "source": [
        "!python3 -m grader homework -vv --disable_color"
      ],
      "metadata": {
        "id": "-ijkV65Bvpaj",
        "colab": {
          "base_uri": "https://localhost:8080/"
        },
        "outputId": "b9ff48db-7534-4bed-be53-2a8b0ee8304c"
      },
      "execution_count": 2,
      "outputs": [
        {
          "output_type": "stream",
          "name": "stdout",
          "text": [
            "2024-07-14 13:23:55.109739: E external/local_xla/xla/stream_executor/cuda/cuda_dnn.cc:9261] Unable to register cuDNN factory: Attempting to register factory for plugin cuDNN when one has already been registered\n",
            "2024-07-14 13:23:55.109792: E external/local_xla/xla/stream_executor/cuda/cuda_fft.cc:607] Unable to register cuFFT factory: Attempting to register factory for plugin cuFFT when one has already been registered\n",
            "2024-07-14 13:23:55.111112: E external/local_xla/xla/stream_executor/cuda/cuda_blas.cc:1515] Unable to register cuBLAS factory: Attempting to register factory for plugin cuBLAS when one has already been registered\n",
            "2024-07-14 13:23:55.118000: I tensorflow/core/platform/cpu_feature_guard.cc:182] This TensorFlow binary is optimized to use available CPU instructions in performance-critical operations.\n",
            "To enable the following instructions: AVX2 AVX512F FMA, in other operations, rebuild TensorFlow with the appropriate compiler flags.\n",
            "2024-07-14 13:23:56.173295: W tensorflow/compiler/tf2tensorrt/utils/py_utils.cc:38] TF-TRT Warning: Could not find TensorRT\n",
            "Public grader loaded.\n",
            "[DEBUG    00:00:000] Loading assignment\n",
            "[DEBUG    00:00:002] Loading grader\n",
            "[INFO     00:00:003] Log correctness\n",
            "[INFO     00:00:076]  * Log correctness                                     [   0 /  10 ]\n",
            "[INFO     00:00:077] Classification\n",
            "[INFO     00:00:078]  * Classification                                      [   0 /  10 ]\n",
            "[INFO     00:00:078] Linear\n",
            "[INFO     00:00:079]  * Linear                                              [   0 /  21 ]\n",
            "[INFO     00:00:080] MLP\n",
            "[INFO     00:00:081]  * MLP                                                 [   0 /  21 ]\n",
            "[INFO     00:00:082] Deep MLP\n",
            "[INFO     00:00:083]  * Deep MLP                                            [   0 /  21 ]\n",
            "[INFO     00:00:083] Deep Residual MLP\n",
            "[INFO     00:00:084]  * Deep Residual MLP                                   [   0 /  21 ]\n",
            "[INFO     00:00:084] Total                                                      0 / 104\n"
          ]
        }
      ]
    },
    {
      "cell_type": "markdown",
      "source": [
        "## Training\n",
        "\n",
        "This cell demonstrates how you can train and tune your models.\n",
        "\n",
        "After you find a good set of model hyperparameters,  \n",
        "be sure to hard-code them into the constructor arguments since the grader will load your model using the default constructor."
      ],
      "metadata": {
        "id": "1MypN2jy4IAs"
      }
    },
    {
      "cell_type": "code",
      "source": [
        "from homework.train import train\n",
        "\n",
        "\n",
        "jobs = [\n",
        "    # Run on short schedule (10 epochs)\n",
        "    {\n",
        "        \"model_name\": \"linear\",\n",
        "        \"num_epoch\": 10,\n",
        "        \"lr\": 1e-3\n",
        "    },\n",
        "    # Train for longer (20 epochs)\n",
        "    {\n",
        "        \"model_name\": \"linear\",\n",
        "        \"num_epoch\": 20,\n",
        "        \"lr\": 1e-3\n",
        "    },\n",
        "]\n",
        "\n",
        "\n",
        "for params in jobs:\n",
        "    train(**params)"
      ],
      "metadata": {
        "id": "DaZhBdBewBt4"
      },
      "execution_count": null,
      "outputs": []
    },
    {
      "cell_type": "markdown",
      "source": [
        "## Tensorboard\n",
        "\n",
        "Monitor training using the following command:"
      ],
      "metadata": {
        "id": "glE1RHxE30_u"
      }
    },
    {
      "cell_type": "code",
      "source": [
        "%load_ext tensorboard\n",
        "%tensorboard --logdir logs"
      ],
      "metadata": {
        "id": "wRWuQIERv6hz"
      },
      "execution_count": null,
      "outputs": []
    },
    {
      "cell_type": "markdown",
      "source": [
        "## Submission\n",
        "\n",
        "Run the following cell to bundle your submission (modify UTID accordingly).\n",
        "\n",
        "After the bundler and grader run, right click and download your bundled `.zip` file from the Colab UI.\n"
      ],
      "metadata": {
        "id": "OxbPtnF55AMU"
      }
    },
    {
      "cell_type": "code",
      "source": [
        "!python3 bundle.py homework UTID\n",
        "\n",
        "# optional: run the grader with your bundled homework\n",
        "!python3 -m grader UTID.zip -vv --disable_color"
      ],
      "metadata": {
        "id": "M07WA1Os4Xxh"
      },
      "execution_count": null,
      "outputs": []
    }
  ]
}