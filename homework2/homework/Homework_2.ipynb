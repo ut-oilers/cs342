{
  "nbformat": 4,
  "nbformat_minor": 0,
  "metadata": {
    "colab": {
      "provenance": [],
      "gpuType": "T4",
      "include_colab_link": true
    },
    "kernelspec": {
      "name": "python3",
      "display_name": "Python 3"
    },
    "language_info": {
      "name": "python"
    },
    "accelerator": "GPU"
  },
  "cells": [
    {
      "cell_type": "markdown",
      "metadata": {
        "id": "view-in-github",
        "colab_type": "text"
      },
      "source": [
        "<a href=\"https://colab.research.google.com/github/ut-oilers/cs342/blob/main/homework2/homework/Homework_2.ipynb\" target=\"_parent\"><img src=\"https://colab.research.google.com/assets/colab-badge.svg\" alt=\"Open In Colab\"/></a>"
      ]
    },
    {
      "cell_type": "markdown",
      "source": [
        "## Setup\n",
        "\n",
        "First, enable a GPU runtime via `Runtime > Change runtime type > T4 GPU`\n",
        "\n",
        "Next, upload the following files to the Colab files (left side of the UI)\n",
        "- `homework2.zip`\n",
        "- `classification_data.zip`\n",
        "\n",
        "Unzip the files by running the following cell.  \n",
        "\n",
        "\n",
        "## Colab Tips\n",
        "- You can modify files by opening/editing them in the UI (double-click to open).\n",
        "- `Right click > Refresh` in the Colab file explorer to update the directory.\n",
        "- All files are lost when the Colab session disconnects, so make sure back up your work frequently!\n",
        "\n",
        "Please see `README.md` for homework-specific implementation instrucations."
      ],
      "metadata": {
        "id": "6zWseivb1lli"
      }
    },
    {
      "cell_type": "code",
      "execution_count": 1,
      "metadata": {
        "id": "vLC51taXudfJ",
        "colab": {
          "base_uri": "https://localhost:8080/"
        },
        "outputId": "287da002-dadf-4cb3-bad0-8c7e63995ad0"
      },
      "outputs": [
        {
          "output_type": "stream",
          "name": "stdout",
          "text": [
            "Archive:  homework2.zip\n",
            "  inflating: README.md               \n",
            "  inflating: requirements.txt        \n",
            "  inflating: bundle.py               \n",
            "  inflating: grader/__main__.py      \n",
            "  inflating: grader/grader.py        \n",
            "  inflating: grader/tests.py         \n",
            "  inflating: viz.png                 \n",
            "  inflating: homework/__init__.py    \n",
            "  inflating: homework/logger.py      \n",
            "  inflating: homework/models.py      \n",
            "  inflating: homework/train.py       \n",
            "  inflating: homework/utils.py       \n",
            "  End-of-central-directory signature not found.  Either this file is not\n",
            "  a zipfile, or it constitutes one disk of a multi-part archive.  In the\n",
            "  latter case the central directory and zipfile comment will be found on\n",
            "  the last disk(s) of this archive.\n",
            "unzip:  cannot find zipfile directory in one of classification_data.zip or\n",
            "        classification_data.zip.zip, and cannot find classification_data.zip.ZIP, period.\n"
          ]
        }
      ],
      "source": [
        "!unzip -o homework2.zip\n",
        "!unzip -o classification_data.zip > /dev/null\n",
        "\n",
        "# refreshes python imports automatically when you edit the source file\n",
        "%load_ext autoreload\n",
        "%autoreload 2"
      ]
    },
    {
      "cell_type": "markdown",
      "source": [
        "## Grader\n",
        "\n",
        "Run the following cell to grade your homework locally.\n",
        "\n",
        "Note that the Canvas grader uses a different data split for testing.  \n",
        "There may be a *small* difference between your local grade and your final grade."
      ],
      "metadata": {
        "id": "WODRADDO02Hd"
      }
    },
    {
      "cell_type": "code",
      "source": [
        "!python3 -m grader homework -vv --disable_color"
      ],
      "metadata": {
        "id": "-ijkV65Bvpaj"
      },
      "execution_count": null,
      "outputs": []
    },
    {
      "cell_type": "markdown",
      "source": [
        "## Training\n",
        "\n",
        "This cell demonstrates how you can train and tune your models.\n",
        "\n",
        "After you find a good set of model hyperparameters,  \n",
        "be sure to hard-code them into the constructor arguments since the grader will load your model using the default constructor."
      ],
      "metadata": {
        "id": "1MypN2jy4IAs"
      }
    },
    {
      "cell_type": "code",
      "source": [
        "from homework.train import train\n",
        "\n",
        "\n",
        "jobs = [\n",
        "    # Run on short schedule (10 epochs)\n",
        "    {\n",
        "        \"model_name\": \"linear\",\n",
        "        \"num_epoch\": 10,\n",
        "        \"lr\": 1e-3\n",
        "    },\n",
        "    # Train for longer (20 epochs)\n",
        "    {\n",
        "        \"model_name\": \"linear\",\n",
        "        \"num_epoch\": 20,\n",
        "        \"lr\": 1e-3\n",
        "    },\n",
        "]\n",
        "\n",
        "\n",
        "for params in jobs:\n",
        "    train(**params)"
      ],
      "metadata": {
        "id": "DaZhBdBewBt4"
      },
      "execution_count": null,
      "outputs": []
    },
    {
      "cell_type": "markdown",
      "source": [
        "## Tensorboard\n",
        "\n",
        "Monitor training using the following command:"
      ],
      "metadata": {
        "id": "glE1RHxE30_u"
      }
    },
    {
      "cell_type": "code",
      "source": [
        "%load_ext tensorboard\n",
        "%tensorboard --logdir logs"
      ],
      "metadata": {
        "id": "wRWuQIERv6hz"
      },
      "execution_count": null,
      "outputs": []
    },
    {
      "cell_type": "markdown",
      "source": [
        "## Submission\n",
        "\n",
        "Run the following cell to bundle your submission (modify UTID accordingly).\n",
        "\n",
        "After the bundler and grader run, right click and download your bundled `.zip` file from the Colab UI.\n"
      ],
      "metadata": {
        "id": "OxbPtnF55AMU"
      }
    },
    {
      "cell_type": "code",
      "source": [
        "!python3 bundle.py homework UTID\n",
        "\n",
        "# optional: run the grader with your bundled homework\n",
        "!python3 -m grader UTID.zip -vv --disable_color"
      ],
      "metadata": {
        "id": "M07WA1Os4Xxh"
      },
      "execution_count": null,
      "outputs": []
    }
  ]
}